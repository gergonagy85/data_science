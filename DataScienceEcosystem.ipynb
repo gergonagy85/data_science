{
 "cells": [
  {
   "cell_type": "markdown",
   "id": "bc118dbe-17ac-434c-a398-95a57ab78f36",
   "metadata": {
    "tags": []
   },
   "source": [
    "# Data Science Tools and Ecosystem"
   ]
  },
  {
   "cell_type": "markdown",
   "id": "7e923a45-2884-4bec-8c87-1188f32ebb9e",
   "metadata": {},
   "source": [
    "## Author\n",
    "### Gergo Nagy"
   ]
  },
  {
   "cell_type": "markdown",
   "id": "92b9e5d3-0fde-4b07-828f-d0238a5ed4ad",
   "metadata": {},
   "source": [
    "## Introduction - In this notebook, Data Science Tools and Ecosystem are summarized."
   ]
  },
  {
   "cell_type": "markdown",
   "id": "29cca310-d722-4c5e-bfb3-56410341062e",
   "metadata": {},
   "source": [
    "## **Objectives:**\n",
    "\n",
    "- List popular languages of Data Science\n",
    "- List some Data Science libraries\n",
    "- Evaluate arithmetic expressions in Python"
   ]
  },
  {
   "cell_type": "markdown",
   "id": "c3ea9e23-82ed-440c-82ea-6b082bd349d3",
   "metadata": {},
   "source": [
    "Jupyter Notebook supports hundreds of data science programming languages and some them that data scientists use are\n",
    "\n",
    "1. Python\n",
    "2. R\n",
    "3. Scala"
   ]
  },
  {
   "cell_type": "markdown",
   "id": "79f553d7-a71b-4e66-9a15-8ad721c7a8f2",
   "metadata": {},
   "source": [
    "Some of the commonly used libraries used by Data Scientists include:\n",
    "\n",
    "1. Pandas\n",
    "2. Scikit Learn\n",
    "3. Numpy"
   ]
  },
  {
   "cell_type": "markdown",
   "id": "c759f3f1-e111-4467-9b06-d406280fb2bd",
   "metadata": {},
   "source": [
    "| Data Science Tools   |\n",
    "|----------|\n",
    "| Apache Spark |\n",
    "| Matlab |\n",
    "| SAS |"
   ]
  },
  {
   "cell_type": "markdown",
   "id": "72554ce0-6de8-4553-982d-ed6e7404c409",
   "metadata": {},
   "source": [
    "### Below are a few examples of evaluating arithmetic expressions in Python:\n",
    "\n",
    "eval(expression, globals=None, locals=None)"
   ]
  },
  {
   "cell_type": "code",
   "execution_count": 3,
   "id": "24f62c74-e2e9-4367-8767-712019b26841",
   "metadata": {},
   "outputs": [
    {
     "data": {
      "text/plain": [
       "17"
      ]
     },
     "execution_count": 3,
     "metadata": {},
     "output_type": "execute_result"
    }
   ],
   "source": [
    "#This a simple arithmetic expression to mutiply then add integers#\n",
    "(3*4)+5"
   ]
  },
  {
   "cell_type": "code",
   "execution_count": 4,
   "id": "e17dcc22-c80e-41e2-b485-67172b04e045",
   "metadata": {},
   "outputs": [
    {
     "data": {
      "text/plain": [
       "3.3333333333333335"
      ]
     },
     "execution_count": 4,
     "metadata": {},
     "output_type": "execute_result"
    }
   ],
   "source": [
    "#This will convert 200 minutes to hours by diving by 60#\n",
    "200/60"
   ]
  },
  {
   "cell_type": "code",
   "execution_count": null,
   "id": "6065b3ce-f1ce-4dac-898a-134e204bc5fd",
   "metadata": {},
   "outputs": [],
   "source": []
  }
 ],
 "metadata": {
  "kernelspec": {
   "display_name": "Python",
   "language": "python",
   "name": "conda-env-python-py"
  },
  "language_info": {
   "codemirror_mode": {
    "name": "ipython",
    "version": 3
   },
   "file_extension": ".py",
   "mimetype": "text/x-python",
   "name": "python",
   "nbconvert_exporter": "python",
   "pygments_lexer": "ipython3",
   "version": "3.7.12"
  }
 },
 "nbformat": 4,
 "nbformat_minor": 5
}
